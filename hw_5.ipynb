{
  "nbformat": 4,
  "nbformat_minor": 0,
  "metadata": {
    "colab": {
      "provenance": [],
      "include_colab_link": true
    },
    "kernelspec": {
      "name": "python3",
      "display_name": "Python 3"
    },
    "language_info": {
      "name": "python"
    }
  },
  "cells": [
    {
      "cell_type": "markdown",
      "metadata": {
        "id": "view-in-github",
        "colab_type": "text"
      },
      "source": [
        "<a href=\"https://colab.research.google.com/github/SaiTejaswiAnne/INF502-Fall22/blob/main/hw_5.ipynb\" target=\"_parent\"><img src=\"https://colab.research.google.com/assets/colab-badge.svg\" alt=\"Open In Colab\"/></a>"
      ]
    },
    {
      "cell_type": "code",
      "source": [
        "def GDF(a, b): # GDF Function\n",
        "  if b == 0: # Checking the b == 0 or not \n",
        "      return abs(a) # returning a value \n",
        "  else:\n",
        "      return GDF(b, a % b) # calling again GDF function with some modification."
      ],
      "metadata": {
        "id": "B_zbl_7nQkDR"
      },
      "execution_count": null,
      "outputs": []
    },
    {
      "cell_type": "code",
      "source": [
        "def main(): # Main function\n",
        "# Below I am Calling GDF function \n",
        "  print(GDF(12,4)) \n",
        "  print(GDF(48,30))\n",
        "  print(GDF(32,6))\n",
        "  print(GDF(54,5))\n",
        "\n",
        "if __name__ == \"__main__\":\n",
        "    main() # Calling the Main Function"
      ],
      "metadata": {
        "colab": {
          "base_uri": "https://localhost:8080/"
        },
        "id": "q2u3-0jgRORI",
        "outputId": "000aba37-2974-446c-afab-d52fba4e90ee"
      },
      "execution_count": null,
      "outputs": [
        {
          "output_type": "stream",
          "name": "stdout",
          "text": [
            "4\n",
            "6\n",
            "2\n",
            "1\n"
          ]
        }
      ]
    },
    {
      "cell_type": "markdown",
      "source": [
        "\n",
        "\n",
        "Explaining with an Example:\n",
        "\n",
        "Here, I am considering GDF(54, 5)\n",
        "\n",
        "**step 1:** I am calling the GDF(54,5)\n",
        "\n",
        "**step 2:** Now a value is 54, b value is 5\n",
        "\n",
        "*Condition for GDF*\n",
        "1. Firstly, I am checking the B==0 or not.\n",
        "2. if B==0, I am returning A\n",
        "3. if B!=0, I calling the GDF function with A=B , B=A%B \n",
        "**step 3:** Here, I am checking b==0 or not, it is not equal to zero. So, it goes to else part, calling the GDF function with a=5, b=4 i.e, (a=b and b=remainder of a%b (54%5)). **returning GDF(5, 4)** it means returning and calling the GDF function. \n",
        "\n",
        "**step 4:** Now, GDF(5, 4) is called. a=5 and b=4. Here, I am checking again b==0 or not, b is not equal to zero. So, it goes to else part, calling the GDF function with a=4, b=1 i.e, (a=b and b=remainder of a%b (5%4)). **returning GDF(4, 1)** it means returning and calling the GDF function.\n",
        "\n",
        "**step 5:** Again GDF(4,1) is called. a=4 and b=1. I am checking again b==0 or not, b is not equal to zero. So, it goes to else part, calling the GDF function with a=1, b=0 i.e, (a=b and b=remainder of a%b (4%1)). **returning GDF(1, 0)** it means returning and calling the GDF function.\n",
        "\n",
        "**step 6:** Again GDF(1,0) is called. a=1 and b=0. Now, I am checking the b!=0 or not, here condition is satisfied b=0. so it returns the **a** i.e, a=1 is **returned**\n",
        "\n",
        "Here, Recursion is occured. Recursion means a function that call itself. in step 6 \"a\" value is returned to step 5, from step 5 \"a\" value is returned to step 4 and from step 4 \"a\" value is returned to step 3.\n",
        "\n",
        "Here, \"1\" is returned for the function GDF(1, 0). Now GDF(1, 0) = 1\n",
        "\n",
        "In step 5, for the function GDF(4, 1), GDF(1, 0) is returned (i.e, \"1\") Now GDF(4, 1) is \"1\"\n",
        "\n",
        "In Step 4, for the function GDF(5, 4), GDF(4, 1) is returned (i.e, \"1\")\n",
        "Now GDF(5, 4) is \"1\"\n",
        "\n",
        "Finally, for the function GDF(54, 5), GDF(5, 4) is returned (i.e, \"1\")\n",
        "Now GDF(54, 5) is \"1\". here, 1 is returned for the function GDF(54, 5). 1 is returned and printed.\n",
        "\n",
        "Hence output is 1.\n",
        "\n",
        "\n",
        "\n",
        "\n",
        "\n",
        "\n",
        "\n",
        "\n"
      ],
      "metadata": {
        "id": "P36OCwsoMMgI"
      }
    }
  ]
}